{
 "cells": [
  {
   "cell_type": "markdown",
   "metadata": {},
   "source": [
    "## price_tag_detection and crop _ 230105\n",
    "\n",
    "[Roboflow : How to Use the price tag detection Detection API](https://universe.roboflow.com/sovar/price-tag-detection-r5jlv/model/1)\n",
    "\n",
    "- price_tag을 인식한 후 price_tag으로 인식된 box 부분만 crop하여 저장하는 코드입니다.\n",
    "\n",
    "- 원본 파일 59개 중 39개의 파일에서 price_tag가 인식되었습니다.\n",
    " "
   ]
  },
  {
   "cell_type": "code",
   "execution_count": null,
   "metadata": {},
   "outputs": [],
   "source": [
    "from roboflow import Roboflow\n",
    "from PIL import Image\n",
    "import supervision as sv\n",
    "import cv2\n",
    "import os\n",
    "\n",
    "#from google.colab import drive\n",
    "#drive.mount('/content/drive')\n",
    "%matplotlib inline\n",
    "\n",
    "rf = Roboflow(api_key=\"\")\n",
    "project = rf.workspace().project(\"price-tag-detection-r5jlv\")\n",
    "model = project.version(1).model\n",
    "\n",
    "def price_tag(image_path, i):\n",
    "    image = cv2.imread(image_path)\n",
    "    result = model.predict(image, confidence=40, overlap=30).json()\n",
    "    print('result: ',result)\n",
    "    labels = [item[\"class\"] for item in result[\"predictions\"]]\n",
    "    detections = sv.Detections.from_roboflow(result)\n",
    "    label_annotator = sv.LabelAnnotator()\n",
    "    mask_annotator = sv.MaskAnnotator()\n",
    "\n",
    "    annotated_image = mask_annotator.annotate(\n",
    "        scene=image, detections=detections)\n",
    "    annotated_image = label_annotator.annotate(\n",
    "        scene=annotated_image, detections=detections, labels=labels)\n",
    "\n",
    "    output_image_path = f'image_path.png'\n",
    "    #cv2.imwrite(output_image_path, annotated_image)\n",
    "    if result[\"predictions\"]:\n",
    "      x = int(result[\"predictions\"][0][\"x\"])\n",
    "      y = int(result[\"predictions\"][0][\"y\"])\n",
    "      width = int(result[\"predictions\"][0][\"width\"])\n",
    "      height = int(result[\"predictions\"][0][\"height\"])\n",
    "      area = (x-(width/2),y - (height/2),x+(width/2),y+(height/2))\n",
    "      to_crop = Image.open(image_path)\n",
    "      tc = to_crop.copy()\n",
    "      crop_image = tc.crop(area)\n",
    "      crop_image.save(f'save_image_path{i}.jpg')\n",
    "    sv.plot_image(image=annotated_image, size=(8, 8))\n",
    "\n",
    "    return output_image_path\n",
    "\n",
    "path = '/content/drive/MyDrive/ocr_data' # 원본 데이터\n",
    "file_list = os.listdir(path)\n",
    "file_list_py = [file for file in file_list]\n",
    "i = 0\n",
    "for f in file_list_py:\n",
    "    image_path = os.path.join(path, f)\n",
    "    saved_image_path = price_tag(image_path, i)\n",
    "    print(f\"Image saved to: {saved_image_path}\")\n",
    "    i += 1"
   ]
  }
 ],
 "metadata": {
  "language_info": {
   "name": "python"
  }
 },
 "nbformat": 4,
 "nbformat_minor": 2
}
